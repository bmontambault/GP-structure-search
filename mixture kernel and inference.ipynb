{
 "cells": [
  {
   "cell_type": "code",
   "execution_count": 1,
   "metadata": {
    "collapsed": false
   },
   "outputs": [],
   "source": [
    "import numpy as np\n",
    "import random\n",
    "from scipy.stats import norm,bernoulli\n",
    "import matplotlib.pyplot as plt\n",
    "\n",
    "%matplotlib inline"
   ]
  },
  {
   "cell_type": "code",
   "execution_count": 2,
   "metadata": {
    "collapsed": false
   },
   "outputs": [],
   "source": [
    "class GPR(object):\n",
    "    \n",
    "    def __init__(self,x,y,noise=.1):\n",
    "        self.x=x\n",
    "        self.y=x\n",
    "        self.noise=noise\n",
    "        \n",
    "        self.xmeans=self.mean_func(self.x)\n",
    "        self.cov_matrix=self.cov_func(self.x,self.x)+(np.identity(len(self.x))*self.noise)\n",
    "        self.inv_cov_matrix=np.linalg.inv(self.cov_matrix)\n",
    "        self.det_cov_matrix=np.linalg.det(self.cov_matrix)\n",
    "        \n",
    "    def likelihood(self):\n",
    "        return np.sum(-1/2.*np.log(self.det_cov_matrix))-(1/2.*(self.y-self.xmeans).T*self.inv_cov_matrix*(self.y-self.xmeans))-((len(self.x)/2.)*np.log(2*np.pi))\n",
    "    \n",
    "    def predict(self,x_):\n",
    "        x_mean=[self.mean_func(x_[i]) for i in xrange(len(x_))]\n",
    "        x_xcov=[self.cov_func(x_[i],self.x).T for i in xrange(len(x_))]\n",
    "        x_cov=[self.cov_func(x_[i],x_[i]) for i in xrange(len(x_))]\n",
    "        \n",
    "        mean=np.array([x_mean[i]+x_xcov[i].T*self.inv_cov_matrix*(self.y-self.xmeans) for i in xrange(len(x_))]).reshape(len(x_))\n",
    "        var=np.array([(self.noise+x_cov[i])-x_xcov[i].T*self.inv_cov_matrix*x_xcov[i] for i in xrange(len(x_))]).reshape(len(x_),1)\n",
    "        return mean,var\n",
    "        \n",
    "\n",
    "class PositiveLinear(GPR):\n",
    "    \n",
    "    def mean_func(self,x):\n",
    "        return np.array(x)\n",
    "    \n",
    "    def cov_func(self,x1,x2):\n",
    "        return np.matrix(x1*x2.T) #variance and offset fixed at 1 and 0 for now\n",
    "    \n",
    "    \n",
    "class NegativeLinear(GPR):\n",
    "    \n",
    "    def mean_func(self,x):\n",
    "        return np.array(1-x)\n",
    "    \n",
    "    def cov_func(self,x1,x2):\n",
    "        return np.matrix(x1*x2.T)\n",
    "    \n",
    "def mix(x,y,i):\n",
    "    dist={}\n",
    "    #random initial assignments\n",
    "    assignments=np.random.random_integers(0,1,len(x))\n",
    "    for i in xrange(i*len(x)):\n",
    "        #in the full model each expert's hyperparameters are optimized for each new partitioning\n",
    "        #randomly choose assignment\n",
    "        index=np.random.choice(xrange(len(x)))\n",
    "        #initialize experts with subsets of x and y according to assignments, excluding randomly chosen assignment\n",
    "        PL=PositiveLinear(np.array([x[j] for j in xrange(len(x)) if assignments[j]==0 and x[j] != x[index]]),\n",
    "                               np.array([y[j] for j in xrange(len(y)) if assignments[j]==0 and y[j] != y[index]]))\n",
    "        NL=NegativeLinear(np.array([x[j] for j in xrange(len(x)) if assignments[j]==1 and x[j] != x[index]]),\n",
    "                               np.array([y[j] for j in xrange(len(y)) if assignments[j]==1 and y[j] != y[index]]))\n",
    "        #likelihood of the randomly chosen assignment given each expert\n",
    "        ratio=[np.sum(norm(*PL.predict(x[index])).pdf(y[index])),np.sum(norm(*NL.predict(x[index])).pdf(y[index]))]\n",
    "        constant=sum(ratio)\n",
    "        if constant>0:\n",
    "            normalized=[ratio[0]/constant,ratio[1]/constant]\n",
    "            #draw expert from likelihood ratio\n",
    "            new_assignment=bernoulli(normalized[1]).rvs()\n",
    "            #reassign\n",
    "            assignments[index]=new_assignment\n",
    "            if i>100*len(x):\n",
    "                if tuple(assignments) in dist:\n",
    "                    dist[tuple(assignments)]+=1\n",
    "                else:\n",
    "                    dist[tuple(assignments)]=1\n",
    "    #return assignments\n",
    "    return max(dist,key=dist.get)\n",
    "\n",
    "def inference(priors,assignments,x,y,x_,i,bins):\n",
    "    bins=np.linspace(0,1,bins)\n",
    "    dist={xi:[0 for n in bins] for xi in xrange(len(x_))}\n",
    "    #initialize experts with given assignments\n",
    "    experts=[PositiveLinear(np.array([x[i] for i in xrange(len(x)) if assignments[i]==0]),np.array([y[i] for i in xrange(len(y)) if assignments[i]==0])),\n",
    "            NegativeLinear(np.array([x[i] for i in xrange(len(x)) if assignments[i]==1]),np.array([y[i] for i in xrange(len(y)) if assignments[i]==1]))]\n",
    "    for i in xrange(i):\n",
    "        #draw from prior over experts\n",
    "        expert=experts[bernoulli(priors[1]).rvs()]\n",
    "        means,covs=expert.predict(x_)\n",
    "        #draw predictions from chosen expert's predictive posterior\n",
    "        predictions=[np.sum(norm(means[j],covs[j]).rvs()) for j in xrange(len(means))]\n",
    "        for xi in xrange(len(x_)):\n",
    "            for b in xrange(len(bins)):\n",
    "                if predictions[xi]>bins[b]:\n",
    "                    dist[xi][b-1]+=1\n",
    "    normalized_dist={}\n",
    "    for key in dist.keys():\n",
    "        constant=sum(dist[key])\n",
    "        normalized_dist[key]=[p/constant for p in dist[key]]\n",
    "    return normalized_dist"
   ]
  },
  {
   "cell_type": "code",
   "execution_count": 3,
   "metadata": {
    "collapsed": false
   },
   "outputs": [],
   "source": [
    "X = np.random.uniform(0.,1.,(40,1))\n",
    "true_assignments = np.array([np.array(random.choice([(0,1),(1,-1)])) for i in xrange(len(X))])\n",
    "Y = np.sum(np.hstack((np.ones(len(X))[None].T,X)) * true_assignments,axis=1)[None].T"
   ]
  },
  {
   "cell_type": "code",
   "execution_count": 4,
   "metadata": {
    "collapsed": false
   },
   "outputs": [
    {
     "data": {
      "image/png": "[encoded data removed]",
      "text/plain": [
       "<matplotlib.figure.Figure at 0x1a1f5898>"
      ]
     },
     "metadata": {},
     "output_type": "display_data"
    }
   ],
   "source": [
    "plt.plot(X,Y,'bo')\n",
    "plt.show()"
   ]
  },
  {
   "cell_type": "code",
   "execution_count": 5,
   "metadata": {
    "collapsed": false
   },
   "outputs": [
    {
     "name": "stdout",
     "output_type": "stream",
     "text": [
      "(1, 0, 0, 1, 0, 0, 0, 1, 0, 0, 0, 0, 1, 1, 1, 0, 1, 0, 1, 0, 0, 0, 1, 0, 0, 0, 0, 0, 1, 0, 0, 1, 0, 1, 1, 1, 1, 1, 0, 1)\n"
     ]
    },
    {
     "data": {
      "image/png": "[encoded data removed]",
      "text/plain": [
       "<matplotlib.figure.Figure at 0x19b1a2e8>"
      ]
     },
     "metadata": {},
     "output_type": "display_data"
    }
   ],
   "source": [
    "assignments=mix(X,Y,3000)\n",
    "print assignments\n",
    "PLx=np.array([X[i] for i in xrange(len(X)) if assignments[i]==0])\n",
    "PLy=np.array([Y[i] for i in xrange(len(Y)) if assignments[i]==0])\n",
    "NLx=np.array([X[i] for i in xrange(len(X)) if assignments[i]==1])\n",
    "NLy=np.array([Y[i] for i in xrange(len(Y)) if assignments[i]==1])\n",
    "\n",
    "plt.plot(PLx,PLy,'go') #points assigned to positive linear expert\n",
    "plt.plot(NLx,NLy,'ro') #points assigned to negative linear expert\n",
    "plt.show()"
   ]
  },
  {
   "cell_type": "code",
   "execution_count": 6,
   "metadata": {
    "collapsed": false
   },
   "outputs": [],
   "source": [
    "priors=(.5,.5)\n",
    "x_=np.linspace(0,1)[None].T\n",
    "results=inference(priors,assignments,X,Y,x_,100,100)\n"
   ]
  },
  {
   "cell_type": "code",
   "execution_count": null,
   "metadata": {
    "collapsed": true
   },
   "outputs": [],
   "source": []
  }
 ],
 "metadata": {
  "kernelspec": {
   "display_name": "Python 2",
   "language": "python",
   "name": "python2"
  },
  "language_info": {
   "codemirror_mode": {
    "name": "ipython",
    "version": 2
   },
   "file_extension": ".py",
   "mimetype": "text/x-python",
   "name": "python",
   "nbconvert_exporter": "python",
   "pygments_lexer": "ipython2",
   "version": "2.7.11"
  }
 },
 "nbformat": 4,
 "nbformat_minor": 0
}
