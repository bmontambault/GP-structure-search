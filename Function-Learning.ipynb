{
 "cells": [
  {
   "cell_type": "markdown",
   "metadata": {},
   "source": [
    "# Function learning notes"
   ]
  },
  {
   "cell_type": "code",
   "execution_count": 1,
   "metadata": {
    "collapsed": false
   },
   "outputs": [],
   "source": [
    "from ABCD import GP\n",
    "from ABCD.kernels import*\n",
    "import numpy as np\n",
    "import matplotlib.pyplot as plt\n",
    "%matplotlib inline"
   ]
  },
  {
   "cell_type": "markdown",
   "metadata": {},
   "source": [
    "#### The main problem I've been working on is how to represent cases in which people seem to learn the target function for the most part but still assign some small probability to the positive linear function."
   ]
  },
  {
   "cell_type": "markdown",
   "metadata": {},
   "source": [
    "### Input:"
   ]
  },
  {
   "cell_type": "code",
   "execution_count": 2,
   "metadata": {
    "collapsed": false
   },
   "outputs": [
    {
     "data": {
      "image/png": "[encoded data removed]",
      "text/plain": [
       "<matplotlib.figure.Figure at 0x7902b00>"
      ]
     },
     "metadata": {},
     "output_type": "display_data"
    }
   ],
   "source": [
    "X=np.random.rand(50)\n",
    "Y=-X.copy()+1\n",
    "plt.plot(X,Y,'bo')\n",
    "plt.show()"
   ]
  },
  {
   "cell_type": "markdown",
   "metadata": {},
   "source": [
    "### Expected output:"
   ]
  },
  {
   "cell_type": "code",
   "execution_count": 3,
   "metadata": {
    "collapsed": false
   },
   "outputs": [
    {
     "data": {
      "image/png": "[encoded data removed]",
      "text/plain": [
       "<matplotlib.figure.Figure at 0x7abc080>"
      ]
     },
     "metadata": {},
     "output_type": "display_data"
    }
   ],
   "source": [
    "def sig(x,p0,p1):\n",
    "    return .5*(1+np.tanh((p0-x)/p1))\n",
    "\n",
    "def prob_cp(f1,f2,p0,p1,x):\n",
    "    ratio=[sig(x,p0,p1),1-sig(x,p0,p1)]\n",
    "    if uniform(0,1)<max(ratio):\n",
    "        index=ratio.index(max(ratio))\n",
    "    else:\n",
    "        index=ratio.index(min(ratio))\n",
    "    if index==1:\n",
    "        return f1(x)\n",
    "    else:\n",
    "        return f2(x)\n",
    "    \n",
    "testY=[prob_cp(lambda x:-x+1,lambda x:x,0,.1,x) for x in X]\n",
    "f1w=np.array([sig(i,0,1) for i in np.linspace(0,1)])\n",
    "f2w=1-f1w\n",
    "plt.plot(np.linspace(0,1),f1w,'g')\n",
    "plt.plot(np.linspace(0,1),f2w,'r')\n",
    "plt.plot(X,testY,'bo')\n",
    "plt.show()"
   ]
  },
  {
   "cell_type": "markdown",
   "metadata": {},
   "source": [
    "#### The change point kernel used by Lloyd et al. (2014) uses a sigmoid function to assign weights to two kernels. The behavior described above can be simulated by modifying this function to return probabilities instead of weights. In this case the positive and negative linear functions begin with equal probabilites, but as x increases the probability assigned to the negative function (red) increases and the probability assigned to the positive function (green) decreases."
   ]
  },
  {
   "cell_type": "markdown",
   "metadata": {},
   "source": [
    "#### The change point kernel CP(k1,k2,x1,x2) I use first probabilistically assigns each x to either k1 or k2 with probabilities given by the sigmoid function. CP(k1,k2,x1,x2)=k1(x1,x2) or k2(x1,x2) if x1 and x2 are assigned to the same kernel, else CP(k1,k2,x1,x2)=0."
   ]
  },
  {
   "cell_type": "markdown",
   "metadata": {},
   "source": [
    "### Output:"
   ]
  },
  {
   "cell_type": "code",
   "execution_count": 4,
   "metadata": {
    "collapsed": false
   },
   "outputs": [
    {
     "data": {
      "image/png": "[encoded data removed]",
      "text/plain": [
       "<matplotlib.figure.Figure at 0x7a8a710>"
      ]
     },
     "metadata": {},
     "output_type": "display_data"
    }
   ],
   "source": [
    "prob_cp_kern=Add(Prob(Linear(mean_args=[0,1]),Linear(mean_args=[1,-1])),RandomNoise())\n",
    "prob=GP(X,Y,prob_cp_kern)\n",
    "testX=np.random.rand(50)\n",
    "testY=[prob.prediction(x) for x in testX]\n",
    "plt.plot(testX,testY,'ro')\n",
    "plt.show()"
   ]
  },
  {
   "cell_type": "markdown",
   "metadata": {},
   "source": [
    "#### If I'm understanding this correctly this would be the same as having two seperate gp's, with each using only the x values assigned to their respective kernels, which I don't think is what we want. When I ran it this final time it actually ended up looking pretty good, but usaully more predictions are made along the positive function and the negative function has a larger slope. I'm also not sure what implications this approach has for scoring each model. The way I'm currently setting up the pcfg is to set the probability of each production rule as the product of the priors assigned to each base kernel, so that P(PLcpNL)=P(PL+NL)=P(PLxNL). Because the score of each model is the product of its marginal likelihood and its production probability given the grammar, kernels constructed from the same base kernels will have scores determined only by their marginal likelihoods. "
   ]
  },
  {
   "cell_type": "code",
   "execution_count": 5,
   "metadata": {
    "collapsed": false
   },
   "outputs": [
    {
     "name": "stdout",
     "output_type": "stream",
     "text": [
      "            Marginal Likelihood   BIC\n",
      "PL cp NL   | -9.41833572946      |  -46.2208324969\n",
      "PL + NL    | 8.48254460297       |  -2.5950258212\n",
      "PL x NL    | -40.729246115      |  -101.018607257\n"
     ]
    }
   ],
   "source": [
    "add_kern=Add(Add(Linear(mean_args=[0,1]),Linear(mean_args=[1,-1])),RandomNoise())\n",
    "mult_kern=Add(Mult(Linear(mean_args=[0,1]),Linear(mean_args=[1,-1])),RandomNoise())\n",
    "add=GP(X,Y,add_kern)\n",
    "mult=GP(X,Y,mult_kern)\n",
    "\n",
    "print '           ','Marginal Likelihood',' ', 'BIC'\n",
    "print 'PL cp NL','  |', prob.marginal_likelihood(), '     | ', prob.bic()\n",
    "print 'PL + NL','   |', add.marginal_likelihood(), '      | ', add.bic()\n",
    "print 'PL x NL','   |', mult.marginal_likelihood(), '     | ', mult.bic()"
   ]
  },
  {
   "cell_type": "code",
   "execution_count": null,
   "metadata": {
    "collapsed": true
   },
   "outputs": [],
   "source": []
  }
 ],
 "metadata": {
  "kernelspec": {
   "display_name": "Python 2",
   "language": "python",
   "name": "python2"
  },
  "language_info": {
   "codemirror_mode": {
    "name": "ipython",
    "version": 2
   },
   "file_extension": ".py",
   "mimetype": "text/x-python",
   "name": "python",
   "nbconvert_exporter": "python",
   "pygments_lexer": "ipython2",
   "version": "2.7.11"
  }
 },
 "nbformat": 4,
 "nbformat_minor": 0
}
